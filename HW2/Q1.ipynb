{
 "cells": [
  {
   "cell_type": "code",
   "execution_count": 1,
   "metadata": {
    "collapsed": true
   },
   "outputs": [],
   "source": [
    "import math"
   ]
  },
  {
   "cell_type": "code",
   "execution_count": 2,
   "outputs": [],
   "source": [
    "def originalFunction(x1, w1, x2, w2):\n",
    "    f = 1 / (2 + math.sin(x1*w1) + math.cos(x2*w2))\n",
    "    return f"
   ],
   "metadata": {
    "collapsed": false,
    "pycharm": {
     "name": "#%%\n"
    }
   }
  },
  {
   "cell_type": "code",
   "execution_count": 3,
   "outputs": [
    {
     "data": {
      "text/plain": "0.3333333333333333"
     },
     "execution_count": 3,
     "metadata": {},
     "output_type": "execute_result"
    }
   ],
   "source": [
    "f_xw = originalFunction(x1=0.5*math.pi, w1=1, x2=0.5*math.pi, w2=1)\n",
    "f_xw"
   ],
   "metadata": {
    "collapsed": false,
    "pycharm": {
     "name": "#%%\n"
    }
   }
  },
  {
   "cell_type": "code",
   "execution_count": 4,
   "outputs": [],
   "source": [
    "def dfdx1(x1, w1, x2, w2):\n",
    "    numerator = -2 * math.sin(x1*w1) * math.cos(x1*w1) * w1\n",
    "    denominator = (2 + (math.sin(x1*w1))**2 + math.cos(x2*w2))**2\n",
    "    f = numerator / denominator\n",
    "    return f\n",
    "\n",
    "def dfdx2(x1, w1, x2, w2):\n",
    "    numerator = math.sin(x2*w2) * w2\n",
    "    denominator = (2 + (math.sin(x1*w1))**2 + math.cos(x2*w2))**2\n",
    "    f = numerator / denominator\n",
    "    return f\n",
    "\n",
    "def dfdw1(x1, w1, x2, w2):\n",
    "    numerator = -2 * math.sin(x1*w1) * math.cos(x1*w1) * x1\n",
    "    denominator = (2 + (math.sin(x1*w1))**2 + math.cos(x2*w2))**2\n",
    "    f = numerator / denominator\n",
    "    return f\n",
    "\n",
    "def dfdw2(x1, w1, x2, w2):\n",
    "    numerator = math.sin(x2*w2) * x2\n",
    "    denominator = (2 + (math.sin(x1*w1))**2 + math.cos(x2*w2))**2\n",
    "    f = numerator / denominator\n",
    "    return f"
   ],
   "metadata": {
    "collapsed": false,
    "pycharm": {
     "name": "#%%\n"
    }
   }
  },
  {
   "cell_type": "code",
   "execution_count": 5,
   "outputs": [],
   "source": [
    "handcomp_dfdx1 = dfdx1(x1=0.5*math.pi, w1=1, x2=0.5*math.pi, w2=1)\n",
    "handcomp_dfdw1 = dfdw1(x1=0.5*math.pi, w1=1, x2=0.5*math.pi, w2=1)\n",
    "handcomp_dfdx2 = dfdx2(x1=0.5*math.pi, w1=1, x2=0.5*math.pi, w2=1)\n",
    "handcomp_dfdw2 = dfdw2(x1=0.5*math.pi, w1=1, x2=0.5*math.pi, w2=1)"
   ],
   "metadata": {
    "collapsed": false,
    "pycharm": {
     "name": "#%%\n"
    }
   }
  },
  {
   "cell_type": "code",
   "execution_count": 6,
   "outputs": [],
   "source": [
    "def compGraph(x1, w1, x2, w2, key:str):\n",
    "    upstream_grad = 1\n",
    "    f_xw = originalFunction(x1, w1, x2, w2)\n",
    "    local_grad = upstream_grad * (f_xw**2) * (-1)\n",
    "    upstream_grad = local_grad\n",
    "    local_grad = upstream_grad * 1\n",
    "    upstream_grad = local_grad\n",
    "    # print(upstream_grad)\n",
    "    if key=='x1':\n",
    "        local_grad = upstream_grad * 2 * 0\n",
    "        upstream_grad = local_grad\n",
    "        local_grad = upstream_grad * math.cos(0.5 * math.pi)\n",
    "        upstream_grad = local_grad\n",
    "        local_grad = upstream_grad * w1\n",
    "\n",
    "    elif key=='w1':\n",
    "        local_grad = upstream_grad * 2 * 0\n",
    "        upstream_grad = local_grad\n",
    "        local_grad = upstream_grad * math.cos(0.5 * math.pi)\n",
    "        upstream_grad = local_grad\n",
    "        local_grad = upstream_grad * x1\n",
    "\n",
    "    elif key=='x2':\n",
    "        local_grad = upstream_grad * (-math.sin(0.5 * math.pi))\n",
    "        upstream_grad = local_grad\n",
    "        local_grad = upstream_grad * w2\n",
    "\n",
    "    elif key=='w2':\n",
    "        local_grad = upstream_grad * (-math.sin(0.5 * math.pi))\n",
    "        upstream_grad = local_grad\n",
    "        local_grad = upstream_grad * x2\n",
    "\n",
    "    return local_grad\n"
   ],
   "metadata": {
    "collapsed": false,
    "pycharm": {
     "name": "#%%\n"
    }
   }
  },
  {
   "cell_type": "code",
   "execution_count": 7,
   "outputs": [],
   "source": [
    "compgraph_dfdx1 = compGraph(x1=0.5*math.pi, w1=1, x2=0.5*math.pi, w2=1, key='x1')\n",
    "compgraph_dfdw1 = compGraph(x1=0.5*math.pi, w1=1, x2=0.5*math.pi, w2=1, key='w1')\n",
    "compgraph_dfdx2 = compGraph(x1=0.5*math.pi, w1=1, x2=0.5*math.pi, w2=1, key='x2')\n",
    "compgraph_dfdw2 = compGraph(x1=0.5*math.pi, w1=1, x2=0.5*math.pi, w2=1, key='w2')"
   ],
   "metadata": {
    "collapsed": false,
    "pycharm": {
     "name": "#%%\n"
    }
   }
  },
  {
   "cell_type": "code",
   "execution_count": 8,
   "outputs": [
    {
     "name": "stdout",
     "output_type": "stream",
     "text": [
      "When using hand computation\n",
      "dfdx1=-1.3607186657192813e-17\n",
      "dfdw1=-2.1374118819130997e-17\n",
      "dfdx2=0.1111111111111111\n",
      "dfdw2=0.17453292519943295\n",
      "When using computational graph\n",
      "dfdx1=-0.0\n",
      "dfdw1=-0.0\n",
      "dfdx2=0.1111111111111111\n",
      "dfdw2=0.17453292519943295\n"
     ]
    }
   ],
   "source": [
    "print(f'When using hand computation\\ndfdx1={handcomp_dfdx1}\\ndfdw1={handcomp_dfdw1}\\ndfdx2={handcomp_dfdx2}\\ndfdw2={handcomp_dfdw2}')\n",
    "print(f'When using computational graph\\ndfdx1={compgraph_dfdx1}\\ndfdw1={compgraph_dfdw1}\\ndfdx2={compgraph_dfdx2}\\ndfdw2={compgraph_dfdw2}')"
   ],
   "metadata": {
    "collapsed": false,
    "pycharm": {
     "name": "#%%\n"
    }
   }
  }
 ],
 "metadata": {
  "kernelspec": {
   "display_name": "Python 3",
   "language": "python",
   "name": "python3"
  },
  "language_info": {
   "codemirror_mode": {
    "name": "ipython",
    "version": 2
   },
   "file_extension": ".py",
   "mimetype": "text/x-python",
   "name": "python",
   "nbconvert_exporter": "python",
   "pygments_lexer": "ipython2",
   "version": "2.7.6"
  }
 },
 "nbformat": 4,
 "nbformat_minor": 0
}