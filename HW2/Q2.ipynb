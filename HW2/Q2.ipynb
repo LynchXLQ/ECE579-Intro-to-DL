{
 "cells": [
  {
   "cell_type": "code",
   "execution_count": 129,
   "metadata": {
    "collapsed": true
   },
   "outputs": [],
   "source": [
    "import numpy as np"
   ]
  },
  {
   "cell_type": "code",
   "execution_count": 130,
   "outputs": [],
   "source": [
    "W = np.eye(3, dtype=int)\n",
    "x=np.array([1, 2, 3]).reshape((3, 1))"
   ],
   "metadata": {
    "collapsed": false,
    "pycharm": {
     "name": "#%%\n"
    }
   }
  },
  {
   "cell_type": "code",
   "execution_count": 131,
   "outputs": [],
   "source": [
    "def originalFunction(x, W):\n",
    "    f = np.linalg.norm(1 / (np.exp(-np.dot(W, x)) + 1), ord=2) ** 2\n",
    "    return f"
   ],
   "metadata": {
    "collapsed": false,
    "pycharm": {
     "name": "#%%\n"
    }
   }
  },
  {
   "cell_type": "code",
   "execution_count": 132,
   "outputs": [
    {
     "data": {
      "text/plain": "2.2176476050544203"
     },
     "execution_count": 132,
     "metadata": {},
     "output_type": "execute_result"
    }
   ],
   "source": [
    "f_Wx = originalFunction(x, W)\n",
    "f_Wx"
   ],
   "metadata": {
    "collapsed": false,
    "pycharm": {
     "name": "#%%\n"
    }
   }
  },
  {
   "cell_type": "code",
   "execution_count": 134,
   "outputs": [],
   "source": [
    "def compGraph(x, W, key:str):\n",
    "    f = 1 / (np.exp(-np.dot(W, x)) + 1)\n",
    "    local_grad = 2 * f\n",
    "    upstream_grad = local_grad\n",
    "    dsigdx = x*(1-x)\n",
    "    local_grad = upstream_grad * dsigdx\n",
    "    upstream_grad = local_grad\n",
    "    # print(upstream_grad)\n",
    "    if key == 'W':\n",
    "        local_grad = upstream_grad * np.vstack((x.T, x.T, x.T))\n",
    "    elif key == 'x':\n",
    "        local_grad = upstream_grad * np.array([1, 1, 1]).reshape((3, 1))\n",
    "    return local_grad"
   ],
   "metadata": {
    "collapsed": false,
    "pycharm": {
     "name": "#%%\n"
    }
   }
  },
  {
   "cell_type": "code",
   "execution_count": 135,
   "outputs": [
    {
     "data": {
      "text/plain": "array([[  0.        ,   0.        ,   0.        ],\n       [ -3.52318831,  -7.04637662, -10.56956494],\n       [-11.43088952, -22.86177904, -34.29266857]])"
     },
     "execution_count": 135,
     "metadata": {},
     "output_type": "execute_result"
    }
   ],
   "source": [
    "compGraph(x, W, key='W')"
   ],
   "metadata": {
    "collapsed": false,
    "pycharm": {
     "name": "#%%\n"
    }
   }
  },
  {
   "cell_type": "code",
   "execution_count": 136,
   "outputs": [
    {
     "data": {
      "text/plain": "array([[  0.        ],\n       [ -3.52318831],\n       [-11.43088952]])"
     },
     "execution_count": 136,
     "metadata": {},
     "output_type": "execute_result"
    }
   ],
   "source": [
    "compGraph(x, W, key='x')"
   ],
   "metadata": {
    "collapsed": false,
    "pycharm": {
     "name": "#%%\n"
    }
   }
  },
  {
   "cell_type": "markdown",
   "source": [],
   "metadata": {
    "collapsed": false
   }
  }
 ],
 "metadata": {
  "kernelspec": {
   "display_name": "Python 3",
   "language": "python",
   "name": "python3"
  },
  "language_info": {
   "codemirror_mode": {
    "name": "ipython",
    "version": 2
   },
   "file_extension": ".py",
   "mimetype": "text/x-python",
   "name": "python",
   "nbconvert_exporter": "python",
   "pygments_lexer": "ipython2",
   "version": "2.7.6"
  }
 },
 "nbformat": 4,
 "nbformat_minor": 0
}