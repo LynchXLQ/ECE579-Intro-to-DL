{
 "cells": [
  {
   "cell_type": "code",
   "execution_count": 25,
   "metadata": {
    "collapsed": true,
    "pycharm": {
     "name": "#%%\n"
    }
   },
   "outputs": [],
   "source": [
    "import torch\n",
    "from torch import nn\n",
    "from torchvision import datasets, transforms\n",
    "from torch.utils.data import DataLoader\n",
    "\n",
    "from PIL import Image\n",
    "import time\n",
    "import matplotlib.pyplot as plt"
   ]
  },
  {
   "cell_type": "code",
   "execution_count": 26,
   "outputs": [],
   "source": [
    "BATCH_SIZE = 64\n",
    "EPOCHS = 10\n",
    "DEVICE = torch.device('cuda' if torch.cuda.is_available() else 'cpu')\n",
    "pipeline = transforms.Compose([\n",
    "    transforms.ToTensor(),\n",
    "    transforms.Normalize(mean=(0.1307,), std=(0.3081,))\n",
    "])\n",
    "\n",
    "train_dataset = datasets.MNIST(root='./dataset', train=True, download=True, transform=pipeline)\n",
    "test_dataset = datasets.MNIST(root='./dataset', train=False, download=True, transform=pipeline)\n",
    "train_loader = DataLoader(dataset=train_dataset, batch_size=BATCH_SIZE, shuffle=True)\n",
    "test_loader = DataLoader(dataset=test_dataset, batch_size=BATCH_SIZE, shuffle=True)"
   ],
   "metadata": {
    "collapsed": false,
    "pycharm": {
     "name": "#%%\n"
    }
   }
  },
  {
   "cell_type": "code",
   "execution_count": 27,
   "outputs": [],
   "source": [
    "# image, target = train_dataset[0]\n",
    "# print(image.shape)\n",
    "#\n",
    "# plt.imshow(image.reshape(28, 28), cmap='gray')\n",
    "# print(target)"
   ],
   "metadata": {
    "collapsed": false,
    "pycharm": {
     "name": "#%%\n"
    }
   }
  },
  {
   "cell_type": "markdown",
   "source": [
    "### Build Model"
   ],
   "metadata": {
    "collapsed": false,
    "pycharm": {
     "name": "#%% md\n"
    }
   }
  },
  {
   "cell_type": "code",
   "execution_count": 28,
   "outputs": [],
   "source": [
    "class MnistFC(nn.Module):\n",
    "    def __init__(self):\n",
    "        super(MnistFC, self).__init__()\n",
    "        self.model = nn.Sequential(\n",
    "            nn.Flatten(),\n",
    "            nn.Linear(in_features=784, out_features=200),\n",
    "            nn.ReLU(),\n",
    "            nn.Linear(in_features=200, out_features=50),\n",
    "            nn.ReLU(),\n",
    "            nn.Softmax(dim=1)\n",
    "        )\n",
    "\n",
    "    def forward(self, x):\n",
    "        x = self.model(x)\n",
    "        return x"
   ],
   "metadata": {
    "collapsed": false,
    "pycharm": {
     "name": "#%%\n"
    }
   }
  },
  {
   "cell_type": "code",
   "execution_count": 29,
   "outputs": [],
   "source": [
    "model = MnistFC().to(device=DEVICE)\n",
    "optimizer = torch.optim.SGD(model.parameters(), lr=0.01, momentum=0.9)\n",
    "#optimizer = torch.optim.Adam(params=model.parameters(), lr=0.0005)\n",
    "loss_func = nn.CrossEntropyLoss()"
   ],
   "metadata": {
    "collapsed": false,
    "pycharm": {
     "name": "#%%\n"
    }
   }
  },
  {
   "cell_type": "markdown",
   "source": [
    "### Training"
   ],
   "metadata": {
    "collapsed": false,
    "pycharm": {
     "name": "#%% md\n"
    }
   }
  },
  {
   "cell_type": "code",
   "execution_count": 30,
   "outputs": [],
   "source": [
    "def train_model(model, device, train_loader, optimizer, loss_function, epoch):\n",
    "    # print('Start Training...')\n",
    "    model.train()\n",
    "    for batch_idx, (image, target) in enumerate(train_loader):\n",
    "        image, target = image.to(device=device), target.to(device=device)\n",
    "        optimizer.zero_grad()\n",
    "        output = model(image)\n",
    "        train_loss = loss_function(output, target)\n",
    "        train_loss.backward()\n",
    "        optimizer.step()\n",
    "\n",
    "        if batch_idx % 3000 == 0:\n",
    "            print(\"Train Round :{}\\tLoss :{:.6f}\".format(epoch, train_loss.item()))"
   ],
   "metadata": {
    "collapsed": false,
    "pycharm": {
     "name": "#%%\n"
    }
   }
  },
  {
   "cell_type": "markdown",
   "source": [
    "### Testing"
   ],
   "metadata": {
    "collapsed": false,
    "pycharm": {
     "name": "#%% md\n"
    }
   }
  },
  {
   "cell_type": "code",
   "execution_count": 31,
   "outputs": [],
   "source": [
    "def test_model(model, device, test_loader, loss_function):\n",
    "    # print('Start Testing...')\n",
    "    model.eval()\n",
    "    accuracy = 0.0\n",
    "    test_loss = 0.0\n",
    "\n",
    "    with torch.no_grad():\n",
    "        for image, target in test_loader:\n",
    "            image, target = image.to(device=device), target.to(device=device)\n",
    "            output = model(image)\n",
    "            test_loss += loss_function(output, target)\n",
    "            pred = output.argmax(dim=1)  # tensor([8, 0, 0, 1, 0, 7, 8, 1, 8, 2, 3, 0, 2, 1, 1, 0, 4, 5, 6, 8, 0, 1, 2, 3, 1, 5, 2, 1, 1, 5, 4, 6, 3, 6, 5, 0, 5, 2, 2, 3, 9, 6, 1, 4, 9, 5, 5, 7, 3, 6, 0, 5, 2, 8, 3, 3, 4, 7, 1, 0, 5, 7, 3, 6], device='cuda:0')\n",
    "            accuracy += pred.eq(target.view_as(pred)).sum().item()\n",
    "        test_loss /= len(test_loader.dataset)\n",
    "        accuracy /= len(test_loader.dataset)\n",
    "        print(\"Average Test Loss :{:.4f}, Accuracy :{:.2f}%\\n\".format(test_loss.item(), accuracy * 100.0))"
   ],
   "metadata": {
    "collapsed": false,
    "pycharm": {
     "name": "#%%\n"
    }
   }
  },
  {
   "cell_type": "markdown",
   "source": [
    "### Run"
   ],
   "metadata": {
    "collapsed": false,
    "pycharm": {
     "name": "#%% md\n"
    }
   }
  },
  {
   "cell_type": "code",
   "execution_count": 32,
   "outputs": [
    {
     "name": "stdout",
     "output_type": "stream",
     "text": [
      "Train Round :1\tLoss :3.913208\n",
      "Average Test Loss :0.0531, Accuracy :57.11%\n",
      "\n",
      "Train Round :2\tLoss :3.278773\n",
      "Average Test Loss :0.0530, Accuracy :57.44%\n",
      "\n",
      "Train Round :3\tLoss :3.445760\n",
      "Average Test Loss :0.0529, Accuracy :57.79%\n",
      "\n",
      "Train Round :4\tLoss :3.311575\n",
      "Average Test Loss :0.0529, Accuracy :57.97%\n",
      "\n",
      "Train Round :5\tLoss :3.414396\n",
      "Average Test Loss :0.0528, Accuracy :58.12%\n",
      "\n",
      "Train Round :6\tLoss :3.342644\n",
      "Average Test Loss :0.0528, Accuracy :58.30%\n",
      "\n",
      "Train Round :7\tLoss :3.316772\n",
      "Average Test Loss :0.0528, Accuracy :58.43%\n",
      "\n",
      "Train Round :8\tLoss :3.368713\n",
      "Average Test Loss :0.0528, Accuracy :58.52%\n",
      "\n",
      "Train Round :9\tLoss :3.345406\n",
      "Average Test Loss :0.0528, Accuracy :58.56%\n",
      "\n",
      "Train Round :10\tLoss :3.319569\n",
      "Average Test Loss :0.0528, Accuracy :58.68%\n",
      "\n",
      ">> Total time: 58.09074354171753\n"
     ]
    }
   ],
   "source": [
    "start_time = time.time()\n",
    "for epoch in range(1, EPOCHS + 1):\n",
    "    train_model(model=model, device=DEVICE, train_loader=train_loader, optimizer=optimizer, loss_function=loss_func, epoch=epoch)\n",
    "    test_model(model=model, device=DEVICE, test_loader=test_loader, loss_function=loss_func)\n",
    "end_time = time.time()\n",
    "print('>> Total time:', end_time - start_time)"
   ],
   "metadata": {
    "collapsed": false,
    "pycharm": {
     "name": "#%%\n"
    }
   }
  }
 ],
 "metadata": {
  "kernelspec": {
   "display_name": "Python 3",
   "language": "python",
   "name": "python3"
  },
  "language_info": {
   "codemirror_mode": {
    "name": "ipython",
    "version": 2
   },
   "file_extension": ".py",
   "mimetype": "text/x-python",
   "name": "python",
   "nbconvert_exporter": "python",
   "pygments_lexer": "ipython2",
   "version": "2.7.6"
  }
 },
 "nbformat": 4,
 "nbformat_minor": 0
}