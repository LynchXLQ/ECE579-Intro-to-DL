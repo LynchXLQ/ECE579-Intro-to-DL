{
 "cells": [
  {
   "cell_type": "code",
   "execution_count": 77,
   "metadata": {
    "collapsed": true
   },
   "outputs": [],
   "source": [
    "import time\n",
    "from torchvision import datasets, transforms\n",
    "import numpy as np\n",
    "from tqdm import tqdm"
   ]
  },
  {
   "cell_type": "code",
   "execution_count": 78,
   "outputs": [],
   "source": [
    "def load_data(preprocess = False):\n",
    "    pipline = transforms.ToTensor()\n",
    "    dataset_train = datasets.MNIST(root='Mnist', train=True, transform=pipline, download=True)\n",
    "    dataset_test = datasets.MNIST(root='Mnist', train=False, transform=pipline, download=True)\n",
    "    imgs_train = dataset_train.data.numpy()\n",
    "    imgs_train = np.reshape(imgs_train, (imgs_train.shape[0], -1))  # flatten each image\n",
    "\n",
    "    imgs_test = dataset_test.data.numpy()\n",
    "    imgs_test = np.reshape(imgs_test, (imgs_test.shape[0], -1))  # flatten each image\n",
    "    if preprocess:\n",
    "        # for img in tqdm(imgs_train, desc='Train Data Preprocess'):\n",
    "        #     for r in range(784):\n",
    "        #         img[r, ]=255 if img[r, ]>= 128 else 0\n",
    "        # for img in tqdm(imgs_test, desc='Test Data Preprocess'):\n",
    "        #     for r in range(784):\n",
    "        #         img[r, ]=255 if img[r, ]>= 128 else 0\n",
    "        imgs_train[imgs_train < 127] = 0\n",
    "        imgs_train[imgs_train != 0] = 255\n",
    "        imgs_test[imgs_test < 127] = 0\n",
    "        imgs_test[imgs_test != 0] = 255\n",
    "    labl_train = dataset_train.targets.numpy()\n",
    "    labl_test = dataset_test.targets.numpy()\n",
    "    return imgs_train, labl_train, imgs_test, labl_test"
   ],
   "metadata": {
    "collapsed": false,
    "pycharm": {
     "name": "#%%\n"
    }
   }
  },
  {
   "cell_type": "code",
   "execution_count": 79,
   "outputs": [],
   "source": [
    "def get_distance_list(k, test_image, train_images, train_labels):\n",
    "    res = []\n",
    "    for i in range(len(train_images)):\n",
    "        dist = np.linalg.norm(test_image - train_images[i])\n",
    "        # print(train_labels)\n",
    "        res.append([dist, train_labels[i]])\n",
    "    res = sorted(res, key=(lambda t: t[0]))\n",
    "    return res[:k]"
   ],
   "metadata": {
    "collapsed": false,
    "pycharm": {
     "name": "#%%\n"
    }
   }
  },
  {
   "cell_type": "code",
   "execution_count": 80,
   "outputs": [],
   "source": [
    "def KNNClassify(k, num_test, preprocess):\n",
    "    result = []\n",
    "    cnt = 1\n",
    "    imgs_train, labl_train, imgs_test, labl_test = load_data(preprocess)\n",
    "    imgs_test, labl_test = imgs_test[:num_test], labl_test[:num_test]\n",
    "    # imgs_train, labl_train = imgs_train[:10], labl_train[10]\n",
    "    # print('imgs_train', imgs_train.shape)\n",
    "    # print('labl_train', labl_train.shape)\n",
    "    # print('imgs_test', imgs_test.shape)\n",
    "    # print('labl_test', labl_test.shape)\n",
    "    for i in tqdm(range(num_test)):\n",
    "        # print(f'The {cnt}th image test starting...')\n",
    "        # cnt += 1\n",
    "        dist_lst = get_distance_list(k, imgs_test[i], imgs_train, labl_train)\n",
    "        k_labels = []\n",
    "\n",
    "        for dist, label in dist_lst:\n",
    "            k_labels.append(label)\n",
    "        result.append(max(k_labels, key=k_labels.count))\n",
    "\n",
    "    print('Prediction->',result)\n",
    "    return result"
   ],
   "metadata": {
    "collapsed": false,
    "pycharm": {
     "name": "#%%\n"
    }
   }
  },
  {
   "cell_type": "code",
   "execution_count": 81,
   "outputs": [],
   "source": [
    "def evaluate():\n",
    "    k = 20\n",
    "    num_test = 20\n",
    "    num_correct = 0\n",
    "    imgs_train, labl_train, imgs_test, labl_test = load_data()\n",
    "    # print('imgs_train', imgs_train.shape)\n",
    "    # print('labl_train', labl_train.shape)\n",
    "    # print('imgs_test', imgs_test.shape)\n",
    "    # print('labl_test', labl_test.shape)\n",
    "    start_time = time.time()\n",
    "    outputlabels = KNNClassify(k, num_test, preprocess=True)\n",
    "    for idx, pred_label in enumerate(outputlabels):\n",
    "        num_correct += (pred_label == labl_test[idx])\n",
    "    accuracy = num_correct / num_test\n",
    "    print(\"---classification accuracy for knn on mnist: %s ---\" % accuracy)\n",
    "    print(\"---execution time: %s seconds ---\" % (time.time() - start_time))"
   ],
   "metadata": {
    "collapsed": false,
    "pycharm": {
     "name": "#%%\n"
    }
   }
  },
  {
   "cell_type": "code",
   "execution_count": 82,
   "outputs": [
    {
     "name": "stderr",
     "output_type": "stream",
     "text": [
      "100%|██████████| 20/20 [00:05<00:00,  3.89it/s]"
     ]
    },
    {
     "name": "stdout",
     "output_type": "stream",
     "text": [
      "Prediction-> [7, 2, 1, 0, 4, 1, 4, 9, 0, 9, 0, 6, 9, 0, 1, 5, 9, 7, 3, 4]\n",
      "---classification accuracy for knn on mnist: 0.95 ---\n",
      "---execution time: 5.315220355987549 seconds ---\n"
     ]
    },
    {
     "name": "stderr",
     "output_type": "stream",
     "text": [
      "\n"
     ]
    }
   ],
   "source": [
    "evaluate()"
   ],
   "metadata": {
    "collapsed": false,
    "pycharm": {
     "name": "#%%\n"
    }
   }
  }
 ],
 "metadata": {
  "kernelspec": {
   "display_name": "Python 3",
   "language": "python",
   "name": "python3"
  },
  "language_info": {
   "codemirror_mode": {
    "name": "ipython",
    "version": 2
   },
   "file_extension": ".py",
   "mimetype": "text/x-python",
   "name": "python",
   "nbconvert_exporter": "python",
   "pygments_lexer": "ipython2",
   "version": "2.7.6"
  }
 },
 "nbformat": 4,
 "nbformat_minor": 0
}